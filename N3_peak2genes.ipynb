{
 "cells": [
  {
   "cell_type": "markdown",
   "metadata": {},
   "source": [
    "# Matching genes to proximal peaks\n",
    "\n",
    "A common approach to start peak - gene correlation analysis is to find all peaks within 50kb of a gene. Here we build an adjacency matrix matching peak to genes."
   ]
  },
  {
   "cell_type": "code",
   "execution_count": 1,
   "metadata": {},
   "outputs": [],
   "source": [
    "import numpy as np\n",
    "import scanpy as sc \n",
    "import pandas as pd\n",
    "import anndata\n",
    "import anndata2ri ## For sparse matrix conversion from r 2 py"
   ]
  },
  {
   "cell_type": "markdown",
   "metadata": {},
   "source": [
    "#### r2py set-up"
   ]
  },
  {
   "cell_type": "code",
   "execution_count": 2,
   "metadata": {},
   "outputs": [],
   "source": [
    "import rpy2.rinterface_lib.callbacks\n",
    "import logging"
   ]
  },
  {
   "cell_type": "code",
   "execution_count": 3,
   "metadata": {},
   "outputs": [],
   "source": [
    "# Ignore R warning messages\n",
    "#Note: this can be commented out to get more verbose R output\n",
    "rpy2.rinterface_lib.callbacks.logger.setLevel(logging.ERROR)"
   ]
  },
  {
   "cell_type": "markdown",
   "metadata": {},
   "source": [
    "Loading the `rpy2` extension enables cell magic to be used. This runs R code in jupyter notebook cells."
   ]
  },
  {
   "cell_type": "code",
   "execution_count": 4,
   "metadata": {},
   "outputs": [],
   "source": [
    "%load_ext rpy2.ipython"
   ]
  },
  {
   "cell_type": "markdown",
   "metadata": {},
   "source": [
    "### Load data"
   ]
  },
  {
   "cell_type": "code",
   "execution_count": 5,
   "metadata": {},
   "outputs": [],
   "source": [
    "outdir = \"/home/ubuntu/experiments/heart/scATACseq/ed6_pipeline/regions/LV/\"\n",
    "experiment_prefix = 'hca_heart_LV'"
   ]
  },
  {
   "cell_type": "code",
   "execution_count": 6,
   "metadata": {},
   "outputs": [
    {
     "data": {
      "text/plain": [
       "AnnData object with n_obs × n_vars = 10145 × 135228\n",
       "    obs: 'cellatac_clusters', 'n_genes_by_counts', 'log1p_n_genes_by_counts', 'total_counts', 'log1p_total_counts', 'pct_counts_in_top_50_genes', 'pct_counts_in_top_100_genes', 'pct_counts_in_top_200_genes', 'pct_counts_in_top_500_genes'\n",
       "    var: 'peak_width', 'exon', 'gene', 'promoter', 'annotation', 'gene_name', 'gene_id', 'tss_distance', 'ENCODE_blacklist', 'n_cells_by_counts', 'mean_counts', 'log1p_mean_counts', 'pct_dropout_by_counts', 'total_counts', 'log1p_total_counts'\n",
       "    uns: 'cellatac_clusters_colors', 'neighbors', 'umap'\n",
       "    obsm: 'X_cistopic', 'X_umap'\n",
       "    layers: 'binary_raw', 'cistopic_p'\n",
       "    obsp: 'connectivities', 'distances'"
      ]
     },
     "execution_count": 6,
     "metadata": {},
     "output_type": "execute_result"
    }
   ],
   "source": [
    "adata = sc.read_h5ad(outdir + experiment_prefix + \"_ATAC.wCisTopic.h5ad\")\n",
    "adata"
   ]
  },
  {
   "cell_type": "code",
   "execution_count": 7,
   "metadata": {},
   "outputs": [],
   "source": [
    "peaks = adata.var_names"
   ]
  },
  {
   "cell_type": "markdown",
   "metadata": {},
   "source": [
    "### Match peaks 2 genes"
   ]
  },
  {
   "cell_type": "code",
   "execution_count": 9,
   "metadata": {},
   "outputs": [],
   "source": [
    "%%R \n",
    "library(Matrix)\n",
    "library(GenomicRanges)\n",
    "library(ensembldb)\n",
    "library(EnsDb.Hsapiens.v86) ## Remember to pick your genome!\n",
    "library(tidyr)\n",
    "# library(Signac)"
   ]
  },
  {
   "cell_type": "code",
   "execution_count": 10,
   "metadata": {},
   "outputs": [],
   "source": [
    "%%R\n",
    "## String - GRanges conversion\n",
    "## Borrowed from Signac functions \n",
    "## https://satijalab.org/signac/reference/GRangesToString.html\n",
    "StringToGRanges <- function(regions, sep = c(\"-\", \"-\"), ...) {\n",
    "  ranges.df <- data.frame(ranges = regions)\n",
    "  ranges.df <- separate(\n",
    "    data = ranges.df,\n",
    "    col = \"ranges\",\n",
    "    sep = paste0(sep[[1]], \"|\", sep[[2]]),\n",
    "    into = c(\"chr\", \"start\", \"end\")\n",
    "  )\n",
    "  granges <- makeGRangesFromDataFrame(df = ranges.df, ...)\n",
    "  return(granges)\n",
    "}\n",
    "\n",
    "GRangesToString <- function(grange, sep = c(\"-\", \"-\")) {\n",
    "  regions <- paste0(\n",
    "    as.character(x = seqnames(x = grange)),\n",
    "    sep[[1]],\n",
    "    start(x = grange),\n",
    "    sep[[2]],\n",
    "    end(x = grange)\n",
    "  )\n",
    "  return(regions)\n",
    "}\n",
    "\n",
    "# Extend genomicRanges\n",
    "# \n",
    "extend <- function(x, upstream=0, downstream=0)     \n",
    "{\n",
    "    if (any(strand(x) == \"*\"))\n",
    "        warning(\"'*' ranges were treated as '+'\")\n",
    "    on_plus <- strand(x) == \"+\" | strand(x) == \"*\"\n",
    "    new_start <- start(x) - ifelse(on_plus, upstream, downstream)\n",
    "    new_end <- end(x) + ifelse(on_plus, downstream, upstream)\n",
    "    ranges(x) <- IRanges(new_start, new_end)\n",
    "    trim(x)\n",
    "}\n",
    "\n",
    "\n",
    "# Find peaks close to features of interest\n",
    "#\n",
    "# @param peaks_gr GenomicRanges object containing peaks\n",
    "# @param features_gr GenomicRanges object containing features (e.g. genes)\n",
    "# @param d distance to include peak, in bps (default 50000)\n",
    "# @param feat_anno column in `features_gr@elementMetadata` containing annotation to name features (if NULL converts Granges to string)\n",
    "#\n",
    "# @return Sparse adjacency matrix indicating hits\n",
    "peak2feature <- function(peaks_gr, features_gr, d=50000, feat_anno=NULL){\n",
    "  seqlevelsStyle(features_gr) <- seqlevelsStyle(peaks_gr)\n",
    "  \n",
    "  ## Find peaks overlapping the search range around the features\n",
    "  ext_gr <- extend(features_gr, upstream = d, downstream = d)\n",
    "  ovs <- findOverlaps(peaks_gr, ext_gr)\n",
    "  \n",
    "  ## Define identifiers for peaks and features\n",
    "  all_peaks <- GRangesToString(peaks_gr, sep = c(\":\", '-'))\n",
    "  if (is.null(feat_anno)) {\n",
    "    all_feats <- GRangesToString(features_gr, sep = c(\":\", '-'))\n",
    "  } else {\n",
    "    all_feats <- features_gr@elementMetadata[[feat_anno]]\n",
    "  }\n",
    "  \n",
    "  ## Build adjacency matrix for hits\n",
    "  adj_mat <- Matrix(data=0, nrow = length(all_peaks), ncol=length(all_feats))\n",
    "  for (i in unique(subjectHits(ovs))) {\n",
    "    # if (length(adj_mat[queryHits(ovs[subjectHits(ovs)==i]),i]) > 0) {\n",
    "    adj_mat[queryHits(ovs[subjectHits(ovs)==i]),i] <- 1\n",
    "    # }\n",
    "  }\n",
    "  colnames(adj_mat) <- all_feats\n",
    "  rownames(adj_mat) <- all_peaks\n",
    "  \n",
    "  adj_mat\n",
    "  \n",
    "}"
   ]
  },
  {
   "cell_type": "code",
   "execution_count": 11,
   "metadata": {},
   "outputs": [],
   "source": [
    "%%R  -i peaks -o adj_mat\n",
    "genes_gr <- genes(EnsDb.Hsapiens.v86)\n",
    "peaks_gr <- StringToGRanges(peaks, sep=c(\":\", \"-\"))\n",
    "\n",
    "## Compute peak2gene adjacency matrix\n",
    "adj_mat <- peak2feature(peaks_gr, genes_gr, feat_anno = \"gene_id\", d=50000)"
   ]
  },
  {
   "cell_type": "code",
   "execution_count": 12,
   "metadata": {},
   "outputs": [],
   "source": [
    "%%R -o genes\n",
    "genes <- colnames(adj_mat)"
   ]
  },
  {
   "cell_type": "code",
   "execution_count": 13,
   "metadata": {},
   "outputs": [],
   "source": [
    "## Convert sparse matrix w anndata2ri\n",
    "adj_mat = anndata2ri.r2py.rmat_to_spmat(adj_mat)"
   ]
  },
  {
   "cell_type": "markdown",
   "metadata": {},
   "source": [
    "We can store the adjacency matrix in the `.varm` slot of the anndata"
   ]
  },
  {
   "cell_type": "code",
   "execution_count": 14,
   "metadata": {},
   "outputs": [],
   "source": [
    "adata.varm[\"peak2gene\"] = adj_mat\n",
    "adata.uns[\"peak2gene_genes\"] = genes"
   ]
  },
  {
   "cell_type": "code",
   "execution_count": 15,
   "metadata": {},
   "outputs": [
    {
     "data": {
      "text/plain": [
       "AnnData object with n_obs × n_vars = 10145 × 135228\n",
       "    obs: 'cellatac_clusters', 'n_genes_by_counts', 'log1p_n_genes_by_counts', 'total_counts', 'log1p_total_counts', 'pct_counts_in_top_50_genes', 'pct_counts_in_top_100_genes', 'pct_counts_in_top_200_genes', 'pct_counts_in_top_500_genes'\n",
       "    var: 'peak_width', 'exon', 'gene', 'promoter', 'annotation', 'gene_name', 'gene_id', 'tss_distance', 'ENCODE_blacklist', 'n_cells_by_counts', 'mean_counts', 'log1p_mean_counts', 'pct_dropout_by_counts', 'total_counts', 'log1p_total_counts'\n",
       "    uns: 'cellatac_clusters_colors', 'neighbors', 'umap', 'peak2gene_genes'\n",
       "    obsm: 'X_cistopic', 'X_umap'\n",
       "    varm: 'peak2gene'\n",
       "    layers: 'binary_raw', 'cistopic_p'\n",
       "    obsp: 'connectivities', 'distances'"
      ]
     },
     "execution_count": 15,
     "metadata": {},
     "output_type": "execute_result"
    }
   ],
   "source": [
    "adata"
   ]
  },
  {
   "cell_type": "code",
   "execution_count": 17,
   "metadata": {},
   "outputs": [
    {
     "data": {
      "text/html": [
       "<div>\n",
       "<style scoped>\n",
       "    .dataframe tbody tr th:only-of-type {\n",
       "        vertical-align: middle;\n",
       "    }\n",
       "\n",
       "    .dataframe tbody tr th {\n",
       "        vertical-align: top;\n",
       "    }\n",
       "\n",
       "    .dataframe thead th {\n",
       "        text-align: right;\n",
       "    }\n",
       "</style>\n",
       "<table border=\"1\" class=\"dataframe\">\n",
       "  <thead>\n",
       "    <tr style=\"text-align: right;\">\n",
       "      <th></th>\n",
       "      <th>peak_width</th>\n",
       "      <th>exon</th>\n",
       "      <th>gene</th>\n",
       "      <th>promoter</th>\n",
       "      <th>annotation</th>\n",
       "      <th>gene_name</th>\n",
       "      <th>gene_id</th>\n",
       "      <th>tss_distance</th>\n",
       "      <th>ENCODE_blacklist</th>\n",
       "      <th>n_cells_by_counts</th>\n",
       "      <th>mean_counts</th>\n",
       "      <th>log1p_mean_counts</th>\n",
       "      <th>pct_dropout_by_counts</th>\n",
       "      <th>total_counts</th>\n",
       "      <th>log1p_total_counts</th>\n",
       "    </tr>\n",
       "    <tr>\n",
       "      <th>peak_id</th>\n",
       "      <th></th>\n",
       "      <th></th>\n",
       "      <th></th>\n",
       "      <th></th>\n",
       "      <th></th>\n",
       "      <th></th>\n",
       "      <th></th>\n",
       "      <th></th>\n",
       "      <th></th>\n",
       "      <th></th>\n",
       "      <th></th>\n",
       "      <th></th>\n",
       "      <th></th>\n",
       "      <th></th>\n",
       "      <th></th>\n",
       "    </tr>\n",
       "  </thead>\n",
       "  <tbody>\n",
       "    <tr>\n",
       "      <th>chr1:816981-817435</th>\n",
       "      <td>455</td>\n",
       "      <td>0</td>\n",
       "      <td>0</td>\n",
       "      <td>0</td>\n",
       "      <td>intergenic</td>\n",
       "      <td>nan</td>\n",
       "      <td>nan</td>\n",
       "      <td>106492</td>\n",
       "      <td>0</td>\n",
       "      <td>563</td>\n",
       "      <td>0.053891</td>\n",
       "      <td>0.052489</td>\n",
       "      <td>94.610893</td>\n",
       "      <td>563.0</td>\n",
       "      <td>6.335054</td>\n",
       "    </tr>\n",
       "    <tr>\n",
       "      <th>chr1:831286-831573</th>\n",
       "      <td>288</td>\n",
       "      <td>0</td>\n",
       "      <td>0</td>\n",
       "      <td>0</td>\n",
       "      <td>intergenic</td>\n",
       "      <td>nan</td>\n",
       "      <td>nan</td>\n",
       "      <td>92354</td>\n",
       "      <td>0</td>\n",
       "      <td>474</td>\n",
       "      <td>0.045372</td>\n",
       "      <td>0.044373</td>\n",
       "      <td>95.462812</td>\n",
       "      <td>474.0</td>\n",
       "      <td>6.163315</td>\n",
       "    </tr>\n",
       "    <tr>\n",
       "      <th>chr1:832024-832684</th>\n",
       "      <td>661</td>\n",
       "      <td>0</td>\n",
       "      <td>0</td>\n",
       "      <td>0</td>\n",
       "      <td>intergenic</td>\n",
       "      <td>nan</td>\n",
       "      <td>nan</td>\n",
       "      <td>91243</td>\n",
       "      <td>0</td>\n",
       "      <td>922</td>\n",
       "      <td>0.088255</td>\n",
       "      <td>0.084575</td>\n",
       "      <td>91.174500</td>\n",
       "      <td>922.0</td>\n",
       "      <td>6.827629</td>\n",
       "    </tr>\n",
       "    <tr>\n",
       "      <th>chr1:834224-834560</th>\n",
       "      <td>337</td>\n",
       "      <td>0</td>\n",
       "      <td>0</td>\n",
       "      <td>0</td>\n",
       "      <td>intergenic</td>\n",
       "      <td>nan</td>\n",
       "      <td>nan</td>\n",
       "      <td>89367</td>\n",
       "      <td>0</td>\n",
       "      <td>345</td>\n",
       "      <td>0.033024</td>\n",
       "      <td>0.032490</td>\n",
       "      <td>96.697617</td>\n",
       "      <td>345.0</td>\n",
       "      <td>5.846439</td>\n",
       "    </tr>\n",
       "    <tr>\n",
       "      <th>chr1:835550-835763</th>\n",
       "      <td>214</td>\n",
       "      <td>0</td>\n",
       "      <td>0</td>\n",
       "      <td>0</td>\n",
       "      <td>intergenic</td>\n",
       "      <td>nan</td>\n",
       "      <td>nan</td>\n",
       "      <td>88164</td>\n",
       "      <td>0</td>\n",
       "      <td>553</td>\n",
       "      <td>0.052934</td>\n",
       "      <td>0.051580</td>\n",
       "      <td>94.706614</td>\n",
       "      <td>553.0</td>\n",
       "      <td>6.317165</td>\n",
       "    </tr>\n",
       "  </tbody>\n",
       "</table>\n",
       "</div>"
      ],
      "text/plain": [
       "                    peak_width  exon  gene  promoter  annotation gene_name  \\\n",
       "peak_id                                                                      \n",
       "chr1:816981-817435         455     0     0         0  intergenic       nan   \n",
       "chr1:831286-831573         288     0     0         0  intergenic       nan   \n",
       "chr1:832024-832684         661     0     0         0  intergenic       nan   \n",
       "chr1:834224-834560         337     0     0         0  intergenic       nan   \n",
       "chr1:835550-835763         214     0     0         0  intergenic       nan   \n",
       "\n",
       "                   gene_id  tss_distance  ENCODE_blacklist  n_cells_by_counts  \\\n",
       "peak_id                                                                         \n",
       "chr1:816981-817435     nan        106492                 0                563   \n",
       "chr1:831286-831573     nan         92354                 0                474   \n",
       "chr1:832024-832684     nan         91243                 0                922   \n",
       "chr1:834224-834560     nan         89367                 0                345   \n",
       "chr1:835550-835763     nan         88164                 0                553   \n",
       "\n",
       "                    mean_counts  log1p_mean_counts  pct_dropout_by_counts  \\\n",
       "peak_id                                                                     \n",
       "chr1:816981-817435     0.053891           0.052489              94.610893   \n",
       "chr1:831286-831573     0.045372           0.044373              95.462812   \n",
       "chr1:832024-832684     0.088255           0.084575              91.174500   \n",
       "chr1:834224-834560     0.033024           0.032490              96.697617   \n",
       "chr1:835550-835763     0.052934           0.051580              94.706614   \n",
       "\n",
       "                    total_counts  log1p_total_counts  \n",
       "peak_id                                               \n",
       "chr1:816981-817435         563.0            6.335054  \n",
       "chr1:831286-831573         474.0            6.163315  \n",
       "chr1:832024-832684         922.0            6.827629  \n",
       "chr1:834224-834560         345.0            5.846439  \n",
       "chr1:835550-835763         553.0            6.317165  "
      ]
     },
     "execution_count": 17,
     "metadata": {},
     "output_type": "execute_result"
    }
   ],
   "source": [
    "adata.var.head()"
   ]
  },
  {
   "cell_type": "markdown",
   "metadata": {},
   "source": [
    "### Save anndata object"
   ]
  },
  {
   "cell_type": "code",
   "execution_count": 16,
   "metadata": {},
   "outputs": [],
   "source": [
    "adata.write_h5ad(outdir + experiment_prefix + \"_ATAC.wCisTopic_p2g.h5ad\")"
   ]
  },
  {
   "cell_type": "code",
   "execution_count": null,
   "metadata": {},
   "outputs": [],
   "source": []
  }
 ],
 "metadata": {
  "kernelspec": {
   "display_name": "Python 3",
   "language": "python",
   "name": "python3"
  },
  "language_info": {
   "codemirror_mode": {
    "name": "ipython",
    "version": 3
   },
   "file_extension": ".py",
   "mimetype": "text/x-python",
   "name": "python",
   "nbconvert_exporter": "python",
   "pygments_lexer": "ipython3",
   "version": "3.8.3"
  }
 },
 "nbformat": 4,
 "nbformat_minor": 4
}
