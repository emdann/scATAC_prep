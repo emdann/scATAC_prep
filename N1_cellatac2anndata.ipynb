{
 "cells": [
  {
   "cell_type": "markdown",
   "metadata": {},
   "source": [
    "## Build anndata from `cellatac` output\n",
    "\n",
    "In this notebook we put together the many outputs of the [cellatac pipeline](https://github.com/cellgeni/cellatac) for peak calling in scATAC-seq data into one handy anndata object, we do some important peak filtering"
   ]
  },
  {
   "cell_type": "code",
   "execution_count": 1,
   "metadata": {},
   "outputs": [],
   "source": [
    "import numpy as np\n",
    "import scipy.sparse\n",
    "import pandas as pd \n",
    "import scanpy as sc"
   ]
  },
  {
   "cell_type": "code",
   "execution_count": 2,
   "metadata": {},
   "outputs": [],
   "source": [
    "outdir = \"/home/ubuntu/data/heart/scATACseq/cellatac/regions/LV-results200k/\"\n",
    "experiment_prefix = 'hca_heart_LV'\n",
    "cellatac_outdir = '/home/ubuntu/data/heart/scATACseq/cellatac/regions/LV-results200k/'"
   ]
  },
  {
   "cell_type": "code",
   "execution_count": 3,
   "metadata": {},
   "outputs": [],
   "source": [
    "input={'cnts': cellatac_outdir + 'peak_matrix/peaks_bc_matrix.mmtx.gz',\n",
    "        \"bcs\": cellatac_outdir + 'peak_matrix/bc.txt',\n",
    "      \"peaks\": cellatac_outdir + 'peak_matrix/peaks.txt',\n",
    "      'clusters': cellatac_outdir + 'qc/seurat-clades.tsv'}\n",
    "\n",
    "output = {\n",
    "    \"cnt_mmtx\":outdir + experiment_prefix + '_ATAC_cisTopic.mmtx',\n",
    "    \"cnt_peaks\":outdir + experiment_prefix + '_ATAC_cisTopic.peaks.tsv',\n",
    "    \"cnt_cells\":outdir + experiment_prefix + '_ATAC_cisTopic.cells.tsv',\n",
    "    \"h5ad\":outdir + experiment_prefix + '_ATAC_raw.h5ad',\n",
    "}"
   ]
  },
  {
   "cell_type": "markdown",
   "metadata": {},
   "source": [
    "### Make anndata object"
   ]
  },
  {
   "cell_type": "code",
   "execution_count": 4,
   "metadata": {},
   "outputs": [],
   "source": [
    "adata = sc.read_mtx(input[\"cnts\"]).T\n",
    "\n",
    "bc = pd.read_table(input[\"bcs\"], header = None)\n",
    "feat = pd.read_table(input[\"peaks\"], header = None)\n",
    "\n",
    "adata.obs_names = bc[0]\n",
    "adata.var_names = feat[0]"
   ]
  },
  {
   "cell_type": "markdown",
   "metadata": {},
   "source": [
    "### Load peak annotations computed with `annotate_peaks.R`"
   ]
  },
  {
   "cell_type": "code",
   "execution_count": 5,
   "metadata": {},
   "outputs": [
    {
     "data": {
      "text/plain": [
       "AnnData object with n_obs × n_vars = 10447 × 290513\n",
       "    var: 'peak_width', 'exon', 'gene', 'promoter', 'annotation', 'gene_name', 'gene_id', 'tss_distance', 'ENCODE_blacklist'"
      ]
     },
     "execution_count": 5,
     "metadata": {},
     "output_type": "execute_result"
    }
   ],
   "source": [
    "peak_anno_df = pd.read_csv(outdir + \"ATACpeaks_annotation.csv\", index_col = 0)\n",
    "peak_anno_df.index = peak_anno_df[\"peak_id\"]\n",
    "peak_anno_df.drop(\"peak_id\",1, inplace = True)\n",
    "adata.var = pd.concat([adata.var, peak_anno_df], 1)\n",
    "adata"
   ]
  },
  {
   "cell_type": "markdown",
   "metadata": {},
   "source": [
    "### Save binary data to layers"
   ]
  },
  {
   "cell_type": "code",
   "execution_count": 6,
   "metadata": {},
   "outputs": [
    {
     "data": {
      "text/plain": [
       "AnnData object with n_obs × n_vars = 10447 × 290513\n",
       "    var: 'peak_width', 'exon', 'gene', 'promoter', 'annotation', 'gene_name', 'gene_id', 'tss_distance', 'ENCODE_blacklist'\n",
       "    layers: 'binary_raw'"
      ]
     },
     "execution_count": 6,
     "metadata": {},
     "output_type": "execute_result"
    }
   ],
   "source": [
    "adata.layers[\"binary_raw\"] = adata.X\n",
    "adata.layers[\"binary_raw\"][adata.layers[\"binary_raw\"] > 1] = 1\n",
    "adata"
   ]
  },
  {
   "cell_type": "markdown",
   "metadata": {},
   "source": [
    "### Peak filtering\n",
    "\n",
    "`cellatac` calls a lot of peaks that are just noisy and downsizing the matrix a bit makes everything faster."
   ]
  },
  {
   "cell_type": "markdown",
   "metadata": {},
   "source": [
    "#### OBS: Check the filters for your data carefully so you don't throw away usueful info."
   ]
  },
  {
   "cell_type": "code",
   "execution_count": 8,
   "metadata": {},
   "outputs": [
    {
     "data": {
      "text/plain": [
       "array([[<matplotlib.axes._subplots.AxesSubplot object at 0x7fe815ebf610>]],\n",
       "      dtype=object)"
      ]
     },
     "execution_count": 8,
     "metadata": {},
     "output_type": "execute_result"
    },
    {
     "data": {
      "image/png": "[encoded data removed]",
      "text/plain": [
       "<Figure size 1800x432 with 1 Axes>"
      ]
     },
     "metadata": {
      "needs_background": "light"
     },
     "output_type": "display_data"
    }
   ],
   "source": [
    "adata.var.hist(column = 'peak_width', bins = 200, grid = False, figsize = (25,6), color = '#870052')"
   ]
  },
  {
   "cell_type": "markdown",
   "metadata": {},
   "source": [
    "### Preliminary filtering"
   ]
  },
  {
   "cell_type": "markdown",
   "metadata": {},
   "source": [
    "- Basic QC"
   ]
  },
  {
   "cell_type": "code",
   "execution_count": 9,
   "metadata": {},
   "outputs": [
    {
     "data": {
      "text/plain": [
       "AnnData object with n_obs × n_vars = 10447 × 290513\n",
       "    var: 'peak_width', 'exon', 'gene', 'promoter', 'annotation', 'gene_name', 'gene_id', 'tss_distance', 'ENCODE_blacklist', 'n_cells_by_counts', 'mean_counts', 'log1p_mean_counts', 'pct_dropout_by_counts', 'total_counts', 'log1p_total_counts'\n",
       "    layers: 'binary_raw'"
      ]
     },
     "execution_count": 9,
     "metadata": {},
     "output_type": "execute_result"
    }
   ],
   "source": [
    "var_qc = sc.pp.calculate_qc_metrics(adata, layer = \"binary_raw\")[1]\n",
    "adata.var = pd.concat([adata.var, var_qc], 1)\n",
    "adata"
   ]
  },
  {
   "cell_type": "markdown",
   "metadata": {},
   "source": [
    "- Remove cells with peaks accessible in less than k cells"
   ]
  },
  {
   "cell_type": "code",
   "execution_count": 10,
   "metadata": {},
   "outputs": [
    {
     "data": {
      "text/html": [
       "<div>\n",
       "<style scoped>\n",
       "    .dataframe tbody tr th:only-of-type {\n",
       "        vertical-align: middle;\n",
       "    }\n",
       "\n",
       "    .dataframe tbody tr th {\n",
       "        vertical-align: top;\n",
       "    }\n",
       "\n",
       "    .dataframe thead th {\n",
       "        text-align: right;\n",
       "    }\n",
       "</style>\n",
       "<table border=\"1\" class=\"dataframe\">\n",
       "  <thead>\n",
       "    <tr style=\"text-align: right;\">\n",
       "      <th></th>\n",
       "      <th>peak_width</th>\n",
       "      <th>exon</th>\n",
       "      <th>gene</th>\n",
       "      <th>promoter</th>\n",
       "      <th>annotation</th>\n",
       "      <th>gene_name</th>\n",
       "      <th>gene_id</th>\n",
       "      <th>tss_distance</th>\n",
       "      <th>ENCODE_blacklist</th>\n",
       "      <th>n_cells_by_counts</th>\n",
       "      <th>mean_counts</th>\n",
       "      <th>log1p_mean_counts</th>\n",
       "      <th>pct_dropout_by_counts</th>\n",
       "      <th>total_counts</th>\n",
       "      <th>log1p_total_counts</th>\n",
       "    </tr>\n",
       "    <tr>\n",
       "      <th>peak_id</th>\n",
       "      <th></th>\n",
       "      <th></th>\n",
       "      <th></th>\n",
       "      <th></th>\n",
       "      <th></th>\n",
       "      <th></th>\n",
       "      <th></th>\n",
       "      <th></th>\n",
       "      <th></th>\n",
       "      <th></th>\n",
       "      <th></th>\n",
       "      <th></th>\n",
       "      <th></th>\n",
       "      <th></th>\n",
       "      <th></th>\n",
       "    </tr>\n",
       "  </thead>\n",
       "  <tbody>\n",
       "    <tr>\n",
       "      <th>chr1:180719-181587</th>\n",
       "      <td>869</td>\n",
       "      <td>0</td>\n",
       "      <td>0</td>\n",
       "      <td>1</td>\n",
       "      <td>promoter</td>\n",
       "      <td>FO538757.2</td>\n",
       "      <td>ENSG00000279928</td>\n",
       "      <td>805</td>\n",
       "      <td>1</td>\n",
       "      <td>652</td>\n",
       "      <td>0.062410</td>\n",
       "      <td>0.060540</td>\n",
       "      <td>93.758974</td>\n",
       "      <td>652.0</td>\n",
       "      <td>6.481577</td>\n",
       "    </tr>\n",
       "    <tr>\n",
       "      <th>chr1:184065-184544</th>\n",
       "      <td>480</td>\n",
       "      <td>1</td>\n",
       "      <td>1</td>\n",
       "      <td>0</td>\n",
       "      <td>exon</td>\n",
       "      <td>FO538757.2</td>\n",
       "      <td>ENSG00000279928</td>\n",
       "      <td>1671</td>\n",
       "      <td>1</td>\n",
       "      <td>143</td>\n",
       "      <td>0.013688</td>\n",
       "      <td>0.013595</td>\n",
       "      <td>98.631186</td>\n",
       "      <td>143.0</td>\n",
       "      <td>4.969813</td>\n",
       "    </tr>\n",
       "    <tr>\n",
       "      <th>chr1:191296-191630</th>\n",
       "      <td>335</td>\n",
       "      <td>0</td>\n",
       "      <td>1</td>\n",
       "      <td>0</td>\n",
       "      <td>intron</td>\n",
       "      <td>FO538757.1</td>\n",
       "      <td>ENSG00000279457</td>\n",
       "      <td>3780</td>\n",
       "      <td>1</td>\n",
       "      <td>253</td>\n",
       "      <td>0.024217</td>\n",
       "      <td>0.023929</td>\n",
       "      <td>97.578252</td>\n",
       "      <td>253.0</td>\n",
       "      <td>5.537334</td>\n",
       "    </tr>\n",
       "    <tr>\n",
       "      <th>chr1:267871-268081</th>\n",
       "      <td>211</td>\n",
       "      <td>0</td>\n",
       "      <td>0</td>\n",
       "      <td>0</td>\n",
       "      <td>intergenic</td>\n",
       "      <td>NaN</td>\n",
       "      <td>NaN</td>\n",
       "      <td>67548</td>\n",
       "      <td>1</td>\n",
       "      <td>187</td>\n",
       "      <td>0.017900</td>\n",
       "      <td>0.017742</td>\n",
       "      <td>98.210012</td>\n",
       "      <td>187.0</td>\n",
       "      <td>5.236442</td>\n",
       "    </tr>\n",
       "    <tr>\n",
       "      <th>chr1:586080-586280</th>\n",
       "      <td>201</td>\n",
       "      <td>0</td>\n",
       "      <td>0</td>\n",
       "      <td>0</td>\n",
       "      <td>intergenic</td>\n",
       "      <td>NaN</td>\n",
       "      <td>NaN</td>\n",
       "      <td>100373</td>\n",
       "      <td>1</td>\n",
       "      <td>163</td>\n",
       "      <td>0.015603</td>\n",
       "      <td>0.015482</td>\n",
       "      <td>98.439743</td>\n",
       "      <td>163.0</td>\n",
       "      <td>5.099866</td>\n",
       "    </tr>\n",
       "  </tbody>\n",
       "</table>\n",
       "</div>"
      ],
      "text/plain": [
       "                    peak_width  exon  gene  promoter  annotation   gene_name  \\\n",
       "peak_id                                                                        \n",
       "chr1:180719-181587         869     0     0         1    promoter  FO538757.2   \n",
       "chr1:184065-184544         480     1     1         0        exon  FO538757.2   \n",
       "chr1:191296-191630         335     0     1         0      intron  FO538757.1   \n",
       "chr1:267871-268081         211     0     0         0  intergenic         NaN   \n",
       "chr1:586080-586280         201     0     0         0  intergenic         NaN   \n",
       "\n",
       "                            gene_id  tss_distance  ENCODE_blacklist  \\\n",
       "peak_id                                                               \n",
       "chr1:180719-181587  ENSG00000279928           805                 1   \n",
       "chr1:184065-184544  ENSG00000279928          1671                 1   \n",
       "chr1:191296-191630  ENSG00000279457          3780                 1   \n",
       "chr1:267871-268081              NaN         67548                 1   \n",
       "chr1:586080-586280              NaN        100373                 1   \n",
       "\n",
       "                    n_cells_by_counts  mean_counts  log1p_mean_counts  \\\n",
       "peak_id                                                                 \n",
       "chr1:180719-181587                652     0.062410           0.060540   \n",
       "chr1:184065-184544                143     0.013688           0.013595   \n",
       "chr1:191296-191630                253     0.024217           0.023929   \n",
       "chr1:267871-268081                187     0.017900           0.017742   \n",
       "chr1:586080-586280                163     0.015603           0.015482   \n",
       "\n",
       "                    pct_dropout_by_counts  total_counts  log1p_total_counts  \n",
       "peak_id                                                                      \n",
       "chr1:180719-181587              93.758974         652.0            6.481577  \n",
       "chr1:184065-184544              98.631186         143.0            4.969813  \n",
       "chr1:191296-191630              97.578252         253.0            5.537334  \n",
       "chr1:267871-268081              98.210012         187.0            5.236442  \n",
       "chr1:586080-586280              98.439743         163.0            5.099866  "
      ]
     },
     "execution_count": 10,
     "metadata": {},
     "output_type": "execute_result"
    }
   ],
   "source": [
    "adata.var.head()"
   ]
  },
  {
   "cell_type": "code",
   "execution_count": 11,
   "metadata": {},
   "outputs": [
    {
     "data": {
      "text/plain": [
       "array([[<matplotlib.axes._subplots.AxesSubplot object at 0x7fe869b34df0>]],\n",
       "      dtype=object)"
      ]
     },
     "execution_count": 11,
     "metadata": {},
     "output_type": "execute_result"
    },
    {
     "data": {
      "image/png": "[encoded data removed]",
      "text/plain": [
       "<Figure size 1800x432 with 1 Axes>"
      ]
     },
     "metadata": {
      "needs_background": "light"
     },
     "output_type": "display_data"
    }
   ],
   "source": [
    "adata.var.hist(column = 'total_counts', bins = 200, grid = False, figsize = (25,6), color = '#870052')"
   ]
  },
  {
   "cell_type": "code",
   "execution_count": 12,
   "metadata": {},
   "outputs": [
    {
     "data": {
      "text/plain": [
       "View of AnnData object with n_obs × n_vars = 10447 × 262489\n",
       "    var: 'peak_width', 'exon', 'gene', 'promoter', 'annotation', 'gene_name', 'gene_id', 'tss_distance', 'ENCODE_blacklist', 'n_cells_by_counts', 'mean_counts', 'log1p_mean_counts', 'pct_dropout_by_counts', 'total_counts', 'log1p_total_counts'\n",
       "    layers: 'binary_raw'"
      ]
     },
     "execution_count": 12,
     "metadata": {},
     "output_type": "execute_result"
    }
   ],
   "source": [
    "adata = adata[:,adata.var.total_counts > 30]\n",
    "adata = adata[:,adata.var.total_counts < 1500]\n",
    "adata"
   ]
  },
  {
   "cell_type": "markdown",
   "metadata": {},
   "source": [
    "- Remove peaks in ENCODE blacklist"
   ]
  },
  {
   "cell_type": "code",
   "execution_count": 13,
   "metadata": {},
   "outputs": [
    {
     "data": {
      "text/plain": [
       "View of AnnData object with n_obs × n_vars = 10447 × 261459\n",
       "    var: 'peak_width', 'exon', 'gene', 'promoter', 'annotation', 'gene_name', 'gene_id', 'tss_distance', 'ENCODE_blacklist', 'n_cells_by_counts', 'mean_counts', 'log1p_mean_counts', 'pct_dropout_by_counts', 'total_counts', 'log1p_total_counts'\n",
       "    layers: 'binary_raw'"
      ]
     },
     "execution_count": 13,
     "metadata": {},
     "output_type": "execute_result"
    }
   ],
   "source": [
    "adata = adata[:, adata.var.ENCODE_blacklist == 0]\n",
    "adata"
   ]
  },
  {
   "cell_type": "markdown",
   "metadata": {},
   "source": [
    "- Filter by width (remove peaks at the lowest end, closest to min peak width in MACS2)"
   ]
  },
  {
   "cell_type": "code",
   "execution_count": 14,
   "metadata": {},
   "outputs": [
    {
     "data": {
      "text/plain": [
       "View of AnnData object with n_obs × n_vars = 10447 × 238879\n",
       "    var: 'peak_width', 'exon', 'gene', 'promoter', 'annotation', 'gene_name', 'gene_id', 'tss_distance', 'ENCODE_blacklist', 'n_cells_by_counts', 'mean_counts', 'log1p_mean_counts', 'pct_dropout_by_counts', 'total_counts', 'log1p_total_counts'\n",
       "    layers: 'binary_raw'"
      ]
     },
     "execution_count": 14,
     "metadata": {},
     "output_type": "execute_result"
    }
   ],
   "source": [
    "adata = adata[:, adata.var.peak_width > 210]\n",
    "adata = adata[:, adata.var.peak_width < 1500]\n",
    "adata"
   ]
  },
  {
   "cell_type": "markdown",
   "metadata": {},
   "source": [
    "- Filter peaks that are not accessible in at least 10% of cells from a coarse cluster"
   ]
  },
  {
   "cell_type": "code",
   "execution_count": 15,
   "metadata": {},
   "outputs": [],
   "source": [
    "min_frac = 0.1"
   ]
  },
  {
   "cell_type": "markdown",
   "metadata": {},
   "source": [
    "- Load cluster information from cellatac outputs"
   ]
  },
  {
   "cell_type": "code",
   "execution_count": 16,
   "metadata": {},
   "outputs": [
    {
     "data": {
      "text/plain": [
       "AnnData object with n_obs × n_vars = 10447 × 238879\n",
       "    obs: 'cellatac_clusters'\n",
       "    var: 'peak_width', 'exon', 'gene', 'promoter', 'annotation', 'gene_name', 'gene_id', 'tss_distance', 'ENCODE_blacklist', 'n_cells_by_counts', 'mean_counts', 'log1p_mean_counts', 'pct_dropout_by_counts', 'total_counts', 'log1p_total_counts'\n",
       "    layers: 'binary_raw'"
      ]
     },
     "execution_count": 16,
     "metadata": {},
     "output_type": "execute_result"
    }
   ],
   "source": [
    "clusters = pd.read_table(input[\"clusters\"], header = None, index_col = 0)\n",
    "clusters.columns = [\"cellatac_clusters\"]\n",
    "adata.obs = clusters.loc[adata.obs_names]\n",
    "adata"
   ]
  },
  {
   "cell_type": "markdown",
   "metadata": {},
   "source": [
    "- Add cluster matrix"
   ]
  },
  {
   "cell_type": "code",
   "execution_count": 17,
   "metadata": {},
   "outputs": [
    {
     "name": "stderr",
     "output_type": "stream",
     "text": [
      "/home/ubuntu/miniconda3/lib/python3.8/site-packages/IPython/core/interactiveshell.py:3417: SparseEfficiencyWarning: Comparing a sparse matrix with a nonzero scalar using != is inefficient, try using == instead.\n",
      "  exec(code_obj, self.user_global_ns, self.user_ns)\n"
     ]
    }
   ],
   "source": [
    "n_clusters = len(np.unique(adata.obs[[\"cellatac_clusters\"]]))\n",
    "clus_mat = np.empty([adata.n_obs, n_clusters])\n",
    "for cl in np.unique(adata.obs[[\"cellatac_clusters\"]]):\n",
    "    clus_mat[np.where(adata.obs['cellatac_clusters']==cl)[0],cl] = 1\n",
    "\n",
    "clus_mat = scipy.sparse.csr_matrix(clus_mat)\n",
    "clus_mat[clus_mat != 1 ] = 0"
   ]
  },
  {
   "cell_type": "code",
   "execution_count": 18,
   "metadata": {},
   "outputs": [],
   "source": [
    "cl_peak_mat = np.dot(clus_mat.T, adata.layers[\"binary_raw\"])"
   ]
  },
  {
   "cell_type": "code",
   "execution_count": 19,
   "metadata": {},
   "outputs": [],
   "source": [
    "cl_peak_frac = cl_peak_mat/clus_mat.sum(0).T"
   ]
  },
  {
   "cell_type": "code",
   "execution_count": 20,
   "metadata": {},
   "outputs": [],
   "source": [
    "adata = adata[:, cl_peak_frac.max(0) > min_frac]\n",
    "adata"
   ]
  },
  {
   "cell_type": "markdown",
   "metadata": {},
   "source": [
    "### Filter low quality cells"
   ]
  },
  {
   "cell_type": "code",
   "execution_count": 22,
   "metadata": {},
   "outputs": [
    {
     "name": "stderr",
     "output_type": "stream",
     "text": [
      "Trying to set attribute `.obs` of view, copying.\n"
     ]
    }
   ],
   "source": [
    "sc.pp.calculate_qc_metrics(adata, layer = \"binary_raw\", inplace = True)"
   ]
  },
  {
   "cell_type": "code",
   "execution_count": 23,
   "metadata": {},
   "outputs": [
    {
     "data": {
      "text/plain": [
       "array([[<matplotlib.axes._subplots.AxesSubplot object at 0x7fe8100c7f70>]],\n",
       "      dtype=object)"
      ]
     },
     "execution_count": 23,
     "metadata": {},
     "output_type": "execute_result"
    },
    {
     "data": {
      "image/png": "[encoded data removed]",
      "text/plain": [
       "<Figure size 1800x432 with 1 Axes>"
      ]
     },
     "metadata": {
      "needs_background": "light"
     },
     "output_type": "display_data"
    }
   ],
   "source": [
    "adata.var.hist(column = 'log1p_total_counts', bins = 200, grid = False, figsize = (25,6), color = '#870052')"
   ]
  },
  {
   "cell_type": "code",
   "execution_count": 24,
   "metadata": {},
   "outputs": [
    {
     "data": {
      "text/plain": [
       "View of AnnData object with n_obs × n_vars = 10145 × 135228\n",
       "    obs: 'cellatac_clusters', 'n_genes_by_counts', 'log1p_n_genes_by_counts', 'total_counts', 'log1p_total_counts', 'pct_counts_in_top_50_genes', 'pct_counts_in_top_100_genes', 'pct_counts_in_top_200_genes', 'pct_counts_in_top_500_genes'\n",
       "    var: 'peak_width', 'exon', 'gene', 'promoter', 'annotation', 'gene_name', 'gene_id', 'tss_distance', 'ENCODE_blacklist', 'n_cells_by_counts', 'mean_counts', 'log1p_mean_counts', 'pct_dropout_by_counts', 'total_counts', 'log1p_total_counts'\n",
       "    layers: 'binary_raw'"
      ]
     },
     "execution_count": 24,
     "metadata": {},
     "output_type": "execute_result"
    }
   ],
   "source": [
    "adata = adata[adata.obs.log1p_total_counts >= 5.5]\n",
    "adata"
   ]
  },
  {
   "cell_type": "markdown",
   "metadata": {},
   "source": [
    "### Write output anndata"
   ]
  },
  {
   "cell_type": "code",
   "execution_count": 25,
   "metadata": {},
   "outputs": [
    {
     "name": "stderr",
     "output_type": "stream",
     "text": [
      "/home/ubuntu/miniconda3/lib/python3.8/site-packages/anndata/_core/anndata.py:1207: ImplicitModificationWarning: Initializing view as actual.\n",
      "  warnings.warn(\n",
      "Trying to set attribute `.var` of view, copying.\n",
      "... storing 'annotation' as categorical\n",
      "Trying to set attribute `.var` of view, copying.\n",
      "... storing 'gene_name' as categorical\n",
      "Trying to set attribute `.var` of view, copying.\n",
      "... storing 'gene_id' as categorical\n"
     ]
    }
   ],
   "source": [
    "adata.write(output[\"h5ad\"])"
   ]
  },
  {
   "cell_type": "code",
   "execution_count": null,
   "metadata": {},
   "outputs": [],
   "source": []
  }
 ],
 "metadata": {
  "kernelspec": {
   "display_name": "Python 3",
   "language": "python",
   "name": "python3"
  },
  "language_info": {
   "codemirror_mode": {
    "name": "ipython",
    "version": 3
   },
   "file_extension": ".py",
   "mimetype": "text/x-python",
   "name": "python",
   "nbconvert_exporter": "python",
   "pygments_lexer": "ipython3",
   "version": "3.8.3"
  }
 },
 "nbformat": 4,
 "nbformat_minor": 4
}
